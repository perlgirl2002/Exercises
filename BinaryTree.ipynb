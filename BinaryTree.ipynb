{
 "cells": [
  {
   "cell_type": "raw",
   "metadata": {},
   "source": [
    "Binary Tree"
   ]
  },
  {
   "cell_type": "code",
   "execution_count": 35,
   "metadata": {},
   "outputs": [],
   "source": [
    "import random"
   ]
  },
  {
   "cell_type": "code",
   "execution_count": 37,
   "metadata": {
    "collapsed": true
   },
   "outputs": [],
   "source": [
    "class Node:\n",
    "    def __init__(self, val):\n",
    "        self.val = val\n",
    "        self.left_child = None\n",
    "        self.right_child = None \n",
    "\n",
    "    def get(self):\n",
    "        return self.val   \n",
    "\n",
    "    def set(self, val):\n",
    "        self.val = val\n",
    "        \n",
    "    def get_children(self):\n",
    "        children = []\n",
    "        if(self.left_child != None):\n",
    "            children.append(self.left_child)\n",
    "\n",
    "        if(self.right_child != None):\n",
    "            children.append(self.right_child)\n",
    "        return children     \n",
    "\n",
    "class BinaryTree:\n",
    "    def __init__(self):\n",
    "        self.root = None\n",
    "\n",
    "    def set_root(self, val):\n",
    "        self.root = Node(val)\n",
    "\n",
    "    def insert(self, val):\n",
    "        if(self.root is None):\n",
    "            self.set_root(val)\n",
    "        else:\n",
    "            self.insert_node(self.root, val)\n",
    "\n",
    "    def insert_node(self, current_node, val):\n",
    "        if(val <= current_node.val):\n",
    "            if(current_node.left_child):\n",
    "                self.insert_node(current_node.left_child, val)\n",
    "            else:\n",
    "                current_node.left_child = Node(val)\n",
    "\n",
    "        elif(val > current_node.val):\n",
    "            if(current_node.right_child):\n",
    "                self.insert_node(current_node.right_child, val)\n",
    "            else:\n",
    "                current_node.right_child = Node(val)\n",
    "\n",
    "    def find(self, val):\n",
    "        return self.find_node(self.root, val)\n",
    "\n",
    "    def find_node(self, current_node, val):\n",
    "        if(current_node is None):\n",
    "            return False\n",
    "        elif(val == current_node.val):\n",
    "            return True\n",
    "        elif(val < current_node.val):\n",
    "            return self.find_node(current_node.left_child, val)\n",
    "        else:\n",
    "            return self.find_node(current_node.right_child, val)"
   ]
  },
  {
   "cell_type": "code",
   "execution_count": 38,
   "metadata": {},
   "outputs": [],
   "source": [
    "bt = BinaryTree()"
   ]
  },
  {
   "cell_type": "code",
   "execution_count": 40,
   "metadata": {},
   "outputs": [
    {
     "name": "stdout",
     "output_type": "stream",
     "text": [
      "53\n",
      "65\n",
      "32\n",
      "99\n",
      "78\n",
      "97\n",
      "58\n",
      "33\n",
      "82\n",
      "50\n",
      "18\n",
      "81\n",
      "64\n",
      "34\n",
      "6\n"
     ]
    }
   ],
   "source": [
    "for i in range(15):\n",
    "    number = random.randint(1, 100)\n",
    "    bt.insert(number)\n",
    "    print(number)"
   ]
  },
  {
   "cell_type": "code",
   "execution_count": 43,
   "metadata": {},
   "outputs": [
    {
     "data": {
      "text/plain": [
       "False"
      ]
     },
     "execution_count": 43,
     "metadata": {},
     "output_type": "execute_result"
    }
   ],
   "source": [
    "bt.find(55)"
   ]
  },
  {
   "cell_type": "code",
   "execution_count": null,
   "metadata": {
    "collapsed": true
   },
   "outputs": [],
   "source": []
  }
 ],
 "metadata": {
  "kernelspec": {
   "display_name": "Python 3",
   "language": "python",
   "name": "python3"
  },
  "language_info": {
   "codemirror_mode": {
    "name": "ipython",
    "version": 3
   },
   "file_extension": ".py",
   "mimetype": "text/x-python",
   "name": "python",
   "nbconvert_exporter": "python",
   "pygments_lexer": "ipython3",
   "version": "3.6.1"
  }
 },
 "nbformat": 4,
 "nbformat_minor": 2
}
