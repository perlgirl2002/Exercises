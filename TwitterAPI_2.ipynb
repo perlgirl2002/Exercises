{
 "cells": [
  {
   "cell_type": "code",
   "execution_count": 21,
   "metadata": {},
   "outputs": [],
   "source": [
    "import requests\n",
    "import pandas as pd"
   ]
  },
  {
   "cell_type": "code",
   "execution_count": 41,
   "metadata": {},
   "outputs": [
    {
     "name": "stdout",
     "output_type": "stream",
     "text": [
      "{\"delete\": {\"status\": {\"id\": 253873520398966784, \"id_str\": \"253873520398966784\", \"user_id\": 438285775, \"user_id_str\": \"438285775\"}, \"timestamp_ms\": \"1518983415080\"}}\n",
      "{\"delete\": {\"status\": {\"id\": 965298870065553412, \"id_str\": \"965298870065553412\", \"user_id\": 719776507896401920, \"user_id_str\": \"719776507896401920\"}, \"timestamp_ms\": \"1518983415361\"}}\n",
      "{\"delete\": {\"status\": {\"id\": 399513869129101312, \"id_str\": \"399513869129101312\", \"user_id\": 2185798134, \"user_id_str\": \"2185798134\"}, \"timestamp_ms\": \"1518983415366\"}}\n",
      "{\"delete\": {\"status\": {\"id\": 948654819018878976, \"id_str\": \"948654819018878976\", \"user_id\": 925403658111524864, \"user_id_str\": \"925403658111524864\"}, \"timestamp_ms\": \"1518983415372\"}}\n",
      "{\"delete\": {\"status\": {\"id\": 290681721458925568, \"id_str\": \"290681721458925568\", \"user_id\": 620315628, \"user_id_str\": \"620315628\"}, \"timestamp_ms\": \"1518983415542\"}}\n"
     ]
    }
   ],
   "source": [
    "try:\n",
    "    import json\n",
    "except ImportError:\n",
    "    import simplejson as json\n",
    "\n",
    "# Import the necessary methods from \"twitter\" library\n",
    "from twitter import Twitter, OAuth, TwitterHTTPError, TwitterStream\n",
    "\n",
    "# Variables that contains the user credentials to access Twitter API \n",
    "ACCESS_TOKEN = ''\n",
    "ACCESS_SECRET = ''\n",
    "CONSUMER_KEY = ''\n",
    "CONSUMER_SECRET = ''\n",
    "\n",
    "oauth = OAuth(ACCESS_TOKEN, ACCESS_SECRET, CONSUMER_KEY, CONSUMER_SECRET)\n",
    "\n",
    "\n",
    "# Initiate the connection to Twitter Streaming API\n",
    "twitter_stream = TwitterStream(auth=oauth)\n",
    "\n",
    "# Get a sample of the public data following through Twitter\n",
    "iterator = twitter_stream.statuses.sample()\n",
    "\n",
    "tweet_count = 5\n",
    "for tweet in iterator:\n",
    "    tweet_count -= 1\n",
    "    \n",
    "    all_data = json.dumps(tweet)\n",
    "    print(all_data)\n",
    "    df = pd.read_json(all_data, typ='series')\n",
    "    df = pd.DataFrame(df)\n",
    "    \n",
    "    if tweet_count <= 0:\n",
    "        break"
   ]
  },
  {
   "cell_type": "code",
   "execution_count": 42,
   "metadata": {},
   "outputs": [
    {
     "data": {
      "text/html": [
       "<div>\n",
       "<style>\n",
       "    .dataframe thead tr:only-child th {\n",
       "        text-align: right;\n",
       "    }\n",
       "\n",
       "    .dataframe thead th {\n",
       "        text-align: left;\n",
       "    }\n",
       "\n",
       "    .dataframe tbody tr th {\n",
       "        vertical-align: top;\n",
       "    }\n",
       "</style>\n",
       "<table border=\"1\" class=\"dataframe\">\n",
       "  <thead>\n",
       "    <tr style=\"text-align: right;\">\n",
       "      <th></th>\n",
       "      <th>0</th>\n",
       "    </tr>\n",
       "  </thead>\n",
       "  <tbody>\n",
       "    <tr>\n",
       "      <th>delete</th>\n",
       "      <td>{'status': {'id': 290681721458925568, 'id_str'...</td>\n",
       "    </tr>\n",
       "  </tbody>\n",
       "</table>\n",
       "</div>"
      ],
      "text/plain": [
       "                                                        0\n",
       "delete  {'status': {'id': 290681721458925568, 'id_str'..."
      ]
     },
     "execution_count": 42,
     "metadata": {},
     "output_type": "execute_result"
    }
   ],
   "source": [
    "df.head()"
   ]
  },
  {
   "cell_type": "code",
   "execution_count": null,
   "metadata": {
    "collapsed": true
   },
   "outputs": [],
   "source": []
  }
 ],
 "metadata": {
  "kernelspec": {
   "display_name": "Python 3",
   "language": "python",
   "name": "python3"
  }
 },
 "nbformat": 4,
 "nbformat_minor": 2
}
