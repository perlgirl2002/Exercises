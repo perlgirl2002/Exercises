{
 "cells": [
  {
   "cell_type": "raw",
   "metadata": {},
   "source": [
    "Quicksort"
   ]
  },
  {
   "cell_type": "code",
   "execution_count": 23,
   "metadata": {
    "collapsed": true
   },
   "outputs": [],
   "source": [
    "def quicksort(my_list, first, last):\n",
    "    if first < last:\n",
    "        pivot = partition(my_list, first, last)\n",
    "        # sort each half\n",
    "        quicksort(my_list, first, pivot - 1)\n",
    "        quicksort(my_list, pivot + 1, last)\n",
    "    return my_list"
   ]
  },
  {
   "cell_type": "code",
   "execution_count": 24,
   "metadata": {
    "collapsed": true
   },
   "outputs": [],
   "source": [
    "def partition(my_list, first, last):\n",
    "    pivot = my_list[first]\n",
    "    left = first +  1\n",
    "    right = last\n",
    "    done = False\n",
    "    while not done:\n",
    "        while left <= right and my_list[left] <= pivot:\n",
    "            left = left + 1\n",
    "        while my_list[right] >= pivot and right >=left:\n",
    "            right = right -1\n",
    "        if right < left:\n",
    "            done= True\n",
    "        else:\n",
    "            # swap places\n",
    "            temp = my_list[left]\n",
    "            my_list[left] = my_list[right]\n",
    "            my_list[right] = temp\n",
    "    # swap start with my_list[right]\n",
    "    temp = my_list[first]\n",
    "    my_list[first] = my_list[right]\n",
    "    my_list[right] = temp\n",
    "    return right"
   ]
  },
  {
   "cell_type": "code",
   "execution_count": 25,
   "metadata": {},
   "outputs": [
    {
     "data": {
      "text/plain": [
       "[1, 5, 8, 12, 27, 32, 40, 56, 67, 74, 77]"
      ]
     },
     "execution_count": 25,
     "metadata": {},
     "output_type": "execute_result"
    }
   ],
   "source": [
    "# make a list that you want to sort\n",
    "my_list = [40, 77, 56, 32, 27, 74, 12, 8, 5, 1, 67]\n",
    "quicksort(my_list, 0, len(my_list) -  1)"
   ]
  },
  {
   "cell_type": "code",
   "execution_count": null,
   "metadata": {
    "collapsed": true
   },
   "outputs": [],
   "source": []
  }
 ],
 "metadata": {
  "kernelspec": {
   "display_name": "Python 3",
   "language": "python",
   "name": "python3"
  },
  "language_info": {
   "codemirror_mode": {
    "name": "ipython",
    "version": 3
   },
   "file_extension": ".py",
   "mimetype": "text/x-python",
   "name": "python",
   "nbconvert_exporter": "python",
   "pygments_lexer": "ipython3",
   "version": "3.6.1"
  }
 },
 "nbformat": 4,
 "nbformat_minor": 2
}
